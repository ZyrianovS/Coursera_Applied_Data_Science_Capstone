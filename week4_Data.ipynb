{
 "cells": [
  {
   "cell_type": "markdown",
   "metadata": {},
   "source": [
    "# Data"
   ]
  },
  {
   "cell_type": "markdown",
   "metadata": {},
   "source": [
    "## 1. Assignment Requirements"
   ]
  },
  {
   "cell_type": "markdown",
   "metadata": {},
   "source": [
    "Describe the data that you will be using to solve the problem or execute your idea.\n",
    "\n",
    "Remember that you will need to use the Foursquare location data to solve the problem or execute your idea. You can absolutely use other datasets in combination with the Foursquare location data. So make sure that you provide adequate explanation and discussion, with examples, of the data that you will be using, even if it is only Foursquare location data."
   ]
  },
  {
   "cell_type": "markdown",
   "metadata": {},
   "source": [
    "## 2. My Submission: Proposed Data Section"
   ]
  },
  {
   "cell_type": "markdown",
   "metadata": {},
   "source": [
    "In order to answer the above mentioned question the following approach and data will be used:\n",
    "- We will use the results of parsing the Wikipedia page of Toronto's postal codes from week 3 assignment.\n",
    "- Because we narrow down analysis to just one borough (Downtown Toronto), we will not combine neighborhoods with the same postal code as we did in week 3 assignment. That way we will have more distinct neighborhoods for our clustering algorithm to work with.\n",
    "- Then as in week 3 assignment we will get coordinates for all neighborhoods in Downtown Toronto with `geocoder` library.\n",
    "- Then for each coordinate we will make an **explore** Foursquare request with one of the parameters `query='restaurant'` to search for all restaurants in the particular area. We will explore different values for `radius` and `limit` parameters so that we can get more results for our clustering algorithm to work with.\n",
    "- Finally we will execute our clustering algorithm as we did in week 3 assignment and explore the results and hopefully get some valuable insights into the question we are trying to answer."
   ]
  }
 ],
 "metadata": {
  "kernelspec": {
   "display_name": "Python 3",
   "language": "python",
   "name": "python3"
  },
  "language_info": {
   "codemirror_mode": {
    "name": "ipython",
    "version": 3
   },
   "file_extension": ".py",
   "mimetype": "text/x-python",
   "name": "python",
   "nbconvert_exporter": "python",
   "pygments_lexer": "ipython3",
   "version": "3.7.3"
  },
  "toc": {
   "base_numbering": 1,
   "nav_menu": {},
   "number_sections": false,
   "sideBar": true,
   "skip_h1_title": false,
   "title_cell": "Table of Contents",
   "title_sidebar": "Contents",
   "toc_cell": false,
   "toc_position": {},
   "toc_section_display": true,
   "toc_window_display": false
  }
 },
 "nbformat": 4,
 "nbformat_minor": 2
}
